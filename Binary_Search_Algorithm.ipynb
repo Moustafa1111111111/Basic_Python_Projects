{
 "cells": [
  {
   "cell_type": "code",
   "execution_count": 68,
   "id": "57d3f933-f16b-4719-9c57-251c39ebb012",
   "metadata": {},
   "outputs": [
    {
     "name": "stdout",
     "output_type": "stream",
     "text": [
      "Target Not Found\n"
     ]
    }
   ],
   "source": [
    "#----------------------------------------------------------Binary_search_algorithm--------------------------------------------------------#\n",
    "def Binary_Search(sorted_list,target):\n",
    "    'this function used to search for a number in an array using binary search algorithm'\n",
    "\n",
    "    low = 0\n",
    "    high = len(sorted_list)-1\n",
    "\n",
    "    while low <= high:\n",
    "        middle_index = (low+high)//2\n",
    "\n",
    "        if sorted_list[middle_index] == target:\n",
    "            return middle_index\n",
    "            \n",
    "        elif sorted_list[middle_index] > target:\n",
    "            high = middle_index-1\n",
    "            \n",
    "        else:\n",
    "            low = middle_index+1\n",
    "\n",
    "    return -1\n",
    "\n",
    "\n",
    "\n",
    "arr = [2,4,6,8,10,12,14,16,18,20,22,24]\n",
    "target = 26\n",
    "index = Binary_Search(arr,target)\n",
    "\n",
    "if index != -1:\n",
    "    print(f'Target Found at index {index}')\n",
    "else:\n",
    "    print('Target Not Found')"
   ]
  },
  {
   "cell_type": "code",
   "execution_count": null,
   "id": "1efcbf03-1357-43c8-8053-b9200e057d5b",
   "metadata": {},
   "outputs": [],
   "source": []
  },
  {
   "cell_type": "code",
   "execution_count": null,
   "id": "021b13f9-0fea-4620-bacd-e08dd6f7e2df",
   "metadata": {},
   "outputs": [],
   "source": []
  },
  {
   "cell_type": "code",
   "execution_count": null,
   "id": "36ef55bc-cb95-4a27-9f6a-9a37a7b27358",
   "metadata": {},
   "outputs": [],
   "source": [
    "#---------------------------------------------------------Binary_Search_Algorithm_on_ChatGPT-----------------------------------------------------------#\n",
    "import random\n",
    "\n",
    "# Generate a list of numbers with a difference of 2 between consecutive elements\n",
    "def generate_list(start, end, step):\n",
    "    return list(range(start, end+1, step))\n",
    "\n",
    "# Binary Search function\n",
    "def binary_search(arr, target):\n",
    "    low = 0\n",
    "    high = len(arr) - 1\n",
    "    \n",
    "    while low <= high:\n",
    "        mid = (low + high) // 2\n",
    "        if arr[mid] == target:\n",
    "            return mid\n",
    "        elif arr[mid] < target:\n",
    "            low = mid + 1\n",
    "        else:\n",
    "            high = mid - 1\n",
    "    return -1\n",
    "\n",
    "# Create the list\n",
    "random_list = generate_list(0, 100, 2)\n",
    "\n",
    "# Define the target to find in the list\n",
    "target = 46  # You can change this value\n",
    "\n",
    "# Perform the binary search\n",
    "index = binary_search(random_list, target)\n",
    "\n",
    "if index != -1:\n",
    "    print(f\" Target Number Found at index: {index}\")\n",
    "else:\n",
    "    print(\"Target Number Not Found\")\n"
   ]
  },
  {
   "cell_type": "code",
   "execution_count": null,
   "id": "ce4a61d9-0281-4570-98c2-91442579e794",
   "metadata": {},
   "outputs": [],
   "source": [
    "\n",
    "\n",
    "\n",
    "\n",
    "\n",
    "\n",
    "\n",
    "\n",
    "\n",
    "\n"
   ]
  },
  {
   "cell_type": "code",
   "execution_count": null,
   "id": "dda46d67-a366-4dcb-a276-7fa648dabd5f",
   "metadata": {},
   "outputs": [],
   "source": [
    "## generate random list from any random number as start to and number as end i want and with step i want.\n",
    "\n",
    "def generate_random_list(size,start,step):\n",
    "    'this function generates a random numbers list difference between 2 succeeding numbers is 2 starting from a random number'\n",
    "  \n",
    "    list22 = [start]    \n",
    "    i = 0\n",
    "    \n",
    "    \n",
    "    while i < size-1:\n",
    "        x = list22[-1] + step\n",
    "        list22.append(x)\n",
    "        i += 1\n",
    "        \n",
    "    return list22       "
   ]
  },
  {
   "cell_type": "code",
   "execution_count": null,
   "id": "32adb010-ecb5-4bcc-875b-7c83fb959b5c",
   "metadata": {},
   "outputs": [],
   "source": []
  },
  {
   "cell_type": "code",
   "execution_count": null,
   "id": "4f739ba3-70a3-4acd-8af6-42b66c347d5a",
   "metadata": {},
   "outputs": [],
   "source": []
  },
  {
   "cell_type": "code",
   "execution_count": null,
   "id": "e24e425a-9002-4be7-ab7f-7e8f7584a4d9",
   "metadata": {},
   "outputs": [],
   "source": [
    "def generate_random_list(size,start,step):\n",
    "    'this function generates a random numbers list difference between 2 succeeding numbers is 2 starting from a random number'\n",
    "  \n",
    "    list22 = [start]    \n",
    "    i = 0\n",
    "    \n",
    "    \n",
    "    while i < size-1:\n",
    "        x = list22[-1] + step\n",
    "        list22.append(x)\n",
    "        i += 1\n",
    "        if list22[-1] == 100:\n",
    "            break\n",
    "    return list22      "
   ]
  },
  {
   "cell_type": "code",
   "execution_count": null,
   "id": "9ec996cf-7e05-4b5c-9258-4f58d116da82",
   "metadata": {},
   "outputs": [],
   "source": [
    "def Binary_Search(sorted_list,target):\n",
    "    'this function used to search for a number in an array using binary search algorithm'\n",
    "\n",
    "    low = 0\n",
    "    high = len(arr)-1\n",
    "\n",
    "    while low <= high:\n",
    "        middle_index = (low+high)//2\n",
    "\n",
    "        if sorted_list[middle_index] == target:\n",
    "            return middle_index\n",
    "            \n",
    "        elif sorted_list[middle_index] > target:\n",
    "            high = middle_index-1\n",
    "            \n",
    "        else:\n",
    "            low = middle_index+1\n",
    "\n",
    "    return -1\n",
    "\n",
    "\n",
    "\n",
    "arr = [2,4,6,8,10,12,14,16,18,20,22,24]\n",
    "target = 26\n",
    "index = Binary_Search(arr,target)\n",
    "print(' index:>>' , index , '\\n' , 'arr[index]:>>' , arr[index] , '\\n' , 'target:>>' , target)"
   ]
  },
  {
   "cell_type": "code",
   "execution_count": null,
   "id": "c8637765-d6f8-4d28-a345-fe68b12aae61",
   "metadata": {},
   "outputs": [],
   "source": []
  },
  {
   "cell_type": "code",
   "execution_count": null,
   "id": "b51c2eaa-2de2-4af7-9359-24fc0559ede2",
   "metadata": {},
   "outputs": [],
   "source": []
  },
  {
   "cell_type": "code",
   "execution_count": 70,
   "id": "c7edd6e7-9dbf-4be0-aa14-babaf4ecc2cb",
   "metadata": {},
   "outputs": [],
   "source": [
    "def Binary_Search2(sorted_list,target):\n",
    "    'this function used to take an input integer from user and check if it exits in the list or not by using binary search algorithm'\n",
    "\n",
    "    target = input('Enter a random number between 0 and 100')\n",
    "    \n",
    "    low = 0\n",
    "    high = len(arr) \n",
    "\n",
    "    while low <= high:\n",
    "        middle_index == (low+high)//2\n",
    "        \n",
    "        if sorted_list[middle_index] == target:\n",
    "            return middle_index\n",
    "            \n",
    "        elif sorted_list[middle_index] > target:\n",
    "            high = middle_index - 1\n",
    "            \n",
    "        else:\n",
    "            low = middle_index + 1\n",
    "\n",
    "    return -1\n"
   ]
  },
  {
   "cell_type": "code",
   "execution_count": null,
   "id": "1bdd6f1f-66e6-4549-b18b-e1d9325d14ac",
   "metadata": {},
   "outputs": [],
   "source": []
  },
  {
   "cell_type": "code",
   "execution_count": null,
   "id": "b6d757e7-2da2-4bb2-a460-871c8cfbe89b",
   "metadata": {},
   "outputs": [],
   "source": []
  },
  {
   "cell_type": "code",
   "execution_count": 75,
   "id": "6609f376-954b-40b6-a1e0-5ac1d54060b0",
   "metadata": {},
   "outputs": [
    {
     "name": "stdout",
     "output_type": "stream",
     "text": [
      "[79, 81, 83, 85, 87, 89, 91, 93, 95, 97, 99, 101, 103, 105, 107, 109, 111, 113, 115, 117, 119, 121, 123, 125, 127, 129, 131, 133, 135, 137, 139, 141, 143, 145, 147, 149, 151, 153, 155, 157, 159, 161, 163, 165, 167, 169, 171, 173, 175, 177, 179, 181, 183, 185, 187, 189, 191, 193, 195, 197, 199, 201, 203, 205, 207, 209, 211, 213, 215, 217, 219, 221, 223, 225, 227, 229, 231, 233, 235, 237, 239, 241, 243, 245, 247, 249, 251, 253, 255, 257, 259, 261, 263, 265, 267, 269, 271, 273, 275, 277]\n",
      "100\n"
     ]
    }
   ],
   "source": [
    "import random\n",
    "\n",
    "size = 100\n",
    "start = random.randint(1,100)\n",
    "max = 100\n",
    "step = 2\n",
    "\n",
    "list33 = generate_random_list(size,start,step)\n",
    "\n",
    "print(list33)\n",
    "print(len(list33))"
   ]
  },
  {
   "cell_type": "code",
   "execution_count": null,
   "id": "7b9d83f5-2579-4860-bfe0-de008efb1e22",
   "metadata": {},
   "outputs": [],
   "source": []
  },
  {
   "cell_type": "code",
   "execution_count": 80,
   "id": "8e4c1f82-d75a-4e0d-982a-f39fc40a5075",
   "metadata": {},
   "outputs": [
    {
     "name": "stdout",
     "output_type": "stream",
     "text": [
      "Needle found at index: 23\n"
     ]
    }
   ],
   "source": []
  },
  {
   "cell_type": "code",
   "execution_count": 79,
   "id": "a9d89499-71aa-4851-bb2f-d9f9c8838f0d",
   "metadata": {},
   "outputs": [
    {
     "name": "stdout",
     "output_type": "stream",
     "text": [
      "[3, 4, 5, 6]\n"
     ]
    }
   ],
   "source": [
    "del list\n",
    "x = range(3,7)\n",
    "print(list(x))"
   ]
  },
  {
   "cell_type": "code",
   "execution_count": null,
   "id": "30ff5d9d-e07a-4319-9ac3-f45aa132312a",
   "metadata": {},
   "outputs": [],
   "source": []
  },
  {
   "cell_type": "code",
   "execution_count": 81,
   "id": "8ef752b6-1957-48c9-a6f5-bee8b3aee197",
   "metadata": {},
   "outputs": [],
   "source": []
  },
  {
   "cell_type": "code",
   "execution_count": 82,
   "id": "e466b51d-c115-43f1-920b-625682df8f49",
   "metadata": {},
   "outputs": [
    {
     "name": "stdout",
     "output_type": "stream",
     "text": [
      "[60, 62, 64, 66, 68, 70, 72, 74, 76, 78, 80, 82, 84, 86, 88, 90, 92, 94, 96, 98, 100]\n"
     ]
    }
   ],
   "source": [
    "my_list = generate_random_list(40,60,2)\n",
    "print(my_list)"
   ]
  },
  {
   "cell_type": "code",
   "execution_count": null,
   "id": "cea958ce-b0f7-4c09-80ea-094607a55f66",
   "metadata": {},
   "outputs": [],
   "source": []
  },
  {
   "cell_type": "code",
   "execution_count": null,
   "id": "0ce192c7-52f3-4ee8-a532-a2de748f6341",
   "metadata": {},
   "outputs": [],
   "source": []
  },
  {
   "cell_type": "code",
   "execution_count": 83,
   "id": "a1bf7c92-8abb-4f04-af0b-cbf156a01836",
   "metadata": {},
   "outputs": [
    {
     "name": "stdout",
     "output_type": "stream",
     "text": [
      "9\n"
     ]
    }
   ],
   "source": [
    "list11 = [1,3,5,7,9]\n",
    "print(list11[-1])"
   ]
  }
 ],
 "metadata": {
  "kernelspec": {
   "display_name": "Python 3 (ipykernel)",
   "language": "python",
   "name": "python3"
  },
  "language_info": {
   "codemirror_mode": {
    "name": "ipython",
    "version": 3
   },
   "file_extension": ".py",
   "mimetype": "text/x-python",
   "name": "python",
   "nbconvert_exporter": "python",
   "pygments_lexer": "ipython3",
   "version": "3.12.4"
  }
 },
 "nbformat": 4,
 "nbformat_minor": 5
}
