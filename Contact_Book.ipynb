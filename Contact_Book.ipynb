{
 "cells": [
  {
   "cell_type": "code",
   "execution_count": 141,
   "id": "4c11abaf-53d0-446d-b2d4-f124644a882b",
   "metadata": {},
   "outputs": [],
   "source": [
    "#------------------------------------------------------Contact_book_project_from_chatGPT------------------------------------------------------#\n",
    "class Contact():\n",
    "    'this class creates a single contact'\n",
    "\n",
    "    def __init__(self,name,phone_number,email):\n",
    "        self.name = name\n",
    "        self.phone_number = phone_number\n",
    "        self.email = email\n",
    "\n",
    "    def __repr__(self):\n",
    "        return f\"Contacts(name:{self.name},phone number:{phone_number},email:{self.email})\"\n",
    "\n",
    "    def __str__(self):\n",
    "        return f\"Contact: {self.name} ({self.phone_number})\"\n",
    "\n",
    "\n",
    "class ContactBook():\n",
    "    'this class creates a contact book for users'\n",
    "\n",
    "    def __init__(self):\n",
    "        self.contacts_list = []\n",
    "\n",
    "    def add_new_contact(self,name,phone_number,email):\n",
    "        contact = Contact(name,phone_number,email)\n",
    "        self.contacts_list.append(contact)\n",
    "\n",
    "    def display_contacts(self):\n",
    "        if self.contacts_list:\n",
    "            for contact in self.contacts_list:\n",
    "                print(contact)\n",
    "\n",
    "        else:\n",
    "            print('Empty contacts')\n",
    "\n",
    "    def deleting_contact(self,name):\n",
    "        for contact in self.contacts_list:\n",
    "            if contact.name == name:\n",
    "                self.contacts_list.remove(contact)\n",
    "                print(f'{name} deleted')\n",
    "                return\n",
    "                \n",
    "        print(f'Error {name} not found')\n",
    "\n"
   ]
  },
  {
   "cell_type": "code",
   "execution_count": 142,
   "id": "42d315f2-ea3f-4abf-944b-377e3bd11700",
   "metadata": {},
   "outputs": [
    {
     "name": "stdout",
     "output_type": "stream",
     "text": [
      "Contact: Moustafa (+20 1003427151)\n",
      "Contact: Reem (+20 1517243001)\n",
      "Contact: radwa (+20 1517243001)\n"
     ]
    }
   ],
   "source": [
    "my_contact_book = ContactBook()\n",
    "\n",
    "my_contact_book.add_new_contact('Moustafa','+20 1003427151','moustafa.basheer9999@gmail.com')\n",
    "my_contact_book.add_new_contact('Reem','+20 1517243001','Reem.7777@gmail.com')\n",
    "my_contact_book.add_new_contact('radwa','+20 1517243001','Radwa.7777@gmail.com')\n",
    "\n",
    "\n",
    "my_contact_book.display_contacts()"
   ]
  },
  {
   "cell_type": "code",
   "execution_count": 143,
   "id": "f2ce71f5-2f2b-4333-ac80-b28552233ac4",
   "metadata": {},
   "outputs": [
    {
     "name": "stdout",
     "output_type": "stream",
     "text": [
      "radwa deleted\n",
      "Contact: Moustafa (+20 1003427151)\n",
      "Contact: Reem (+20 1517243001)\n"
     ]
    }
   ],
   "source": [
    "my_contact_book.deleting_contact('radwa')\n",
    "my_contact_book.display_contacts()"
   ]
  },
  {
   "cell_type": "code",
   "execution_count": null,
   "id": "d5fff5cd-4415-4f9c-bee9-a27d8eaa931d",
   "metadata": {},
   "outputs": [],
   "source": [
    "\n",
    "\n",
    "\n",
    "\n",
    "\n",
    "\n",
    "\n",
    "\n",
    "\n",
    "\n",
    "\n",
    "\n",
    "\n",
    "\n",
    "\n",
    "\n",
    "\n",
    "\n"
   ]
  },
  {
   "cell_type": "code",
   "execution_count": 96,
   "id": "322b00df-b0e0-40fd-b4b2-f6c8326f9fcd",
   "metadata": {},
   "outputs": [
    {
     "name": "stdout",
     "output_type": "stream",
     "text": [
      "salah has been deleted\n",
      "{('Moustafa', '+20 1003427151', 'moustafa.basheer9999@gmail.com'), ('salah', '+20 1001001000', 'Mohamed.Salah9999@gmail.com')}\n"
     ]
    }
   ],
   "source": [
    "#----------------------------------------------------------Contact_book_project----------------------------------------------------------------#\n",
    "class Contacts():\n",
    "    'This class is used to make a contact book for users'\n",
    "        \n",
    "    contact_set = set([])\n",
    "    counter = 0\n",
    "    def __init__(self,name,phone_number,email):\n",
    "        self.name = name\n",
    "        self.phone_number = phone_number\n",
    "        self.email = email\n",
    "        \n",
    "        self.contact_tuple = (self.name,self.phone_number,self.email)\n",
    "        \n",
    "        Contacts.contact_set.add(self.contact_tuple)\n",
    "        \n",
    "        Contacts.counter +=1\n",
    "\n",
    "    def set_name(self,name):\n",
    "        self.name = name\n",
    "\n",
    "    def set_phone(self,phone):\n",
    "        self.phone = phone\n",
    "\n",
    "    def set_email(self,email):\n",
    "        self.email = email\n",
    "\n",
    "    def get_name(self):\n",
    "        return self.name\n",
    "\n",
    "    def get_phone(self):\n",
    "        return self.phone\n",
    "\n",
    "    def get_email(self):\n",
    "        return self.email    \n",
    "\n",
    "    def number_of_contacts(self):\n",
    "        return Contacts.counter\n",
    "\n",
    "    def __del__(self):\n",
    "        print(f'{self.name} has been deleted')\n",
    "        Contacts.contact_set.discard(self.contact_tuple)\n",
    "\n",
    "    @staticmethod\n",
    "    def get_contact_set():\n",
    "        return Contacts.contact_set\n",
    "\n",
    "\n",
    "object1 = Contacts('Moustafa','+20 1003427151','moustafa.basheer9999@gmail.com')\n",
    "object2 = Contacts('salah','+20 1001001000','Mohamed.Salah9999@gmail.com')\n",
    "a = Contacts.get_contact_set()\n",
    "print(a)\n"
   ]
  },
  {
   "cell_type": "code",
   "execution_count": 97,
   "id": "0934f4e6-35b9-493a-bfd6-b3358622e6ac",
   "metadata": {},
   "outputs": [
    {
     "name": "stdout",
     "output_type": "stream",
     "text": [
      "Moustafa has been deleted\n",
      "{('salah', '+20 1001001000', 'Mohamed.Salah9999@gmail.com')}\n"
     ]
    }
   ],
   "source": [
    "del object1\n",
    "print(a)"
   ]
  },
  {
   "cell_type": "code",
   "execution_count": 69,
   "id": "f251cce6-bc9c-456c-9946-983dd50c510c",
   "metadata": {},
   "outputs": [
    {
     "name": "stdout",
     "output_type": "stream",
     "text": [
      " Name: Moustafa \n",
      " phone number: +20 1003427151 \n",
      " email: moustafa.basheer9999@gmail.com\n",
      "\n",
      "<< This class is used to make a contact book for users >>\n",
      "<< Contacts >>\n",
      "<< __main__ >>\n",
      "<< (<class 'object'>,) >>\n",
      "<< {'__module__': '__main__', '__doc__': 'This class is used to make a contact book for users', 'counter': 3, '__init__': <function Contacts.__init__ at 0x000002A2FA0C7A60>, 'set_name': <function Contacts.set_name at 0x000002A2FA0C5620>, 'set_phone': <function Contacts.set_phone at 0x000002A2FA0C5080>, 'set_email': <function Contacts.set_email at 0x000002A2FA0C79C0>, 'get_name': <function Contacts.get_name at 0x000002A2FA0C6FC0>, 'get_phone': <function Contacts.get_phone at 0x000002A2FA0C7880>, 'get_email': <function Contacts.get_email at 0x000002A2FA0C77E0>, 'number_of_contacts': <function Contacts.number_of_contacts at 0x000002A2F92F6A20>, 'get_contact_list': <function Contacts.get_contact_list at 0x000002A2F92F79C0>, '__dict__': <attribute '__dict__' of 'Contacts' objects>, '__weakref__': <attribute '__weakref__' of 'Contacts' objects>} >>\n"
     ]
    }
   ],
   "source": [
    "object1 = Contacts('Moustafa','+20 1003427151','moustafa.basheer9999@gmail.com')\n",
    "\n",
    "print(' Name:', object1.name, '\\n' , 'phone number:' , object1.phone_number , '\\n' , 'email:' , object1.email)\n",
    "\n",
    "print('\\n<<',Contacts.__doc__ , '>>\\n<<' , Contacts.__name__ , '>>\\n<<', Contacts.__module__ , '>>\\n<<' , Contacts.__bases__ , '>>\\n<<' ,\n",
    "      Contacts.__dict__ , '>>')"
   ]
  },
  {
   "cell_type": "code",
   "execution_count": null,
   "id": "2bd5aabe-f598-4aa5-9216-dd7a3132a13e",
   "metadata": {},
   "outputs": [],
   "source": []
  },
  {
   "cell_type": "code",
   "execution_count": 33,
   "id": "db8cd2d1-d627-4c71-8ba0-b5ae3406c6f5",
   "metadata": {},
   "outputs": [
    {
     "name": "stdout",
     "output_type": "stream",
     "text": [
      "{\" 'name'_'address'_'phone number' \": ('Moustafa', 'Tagamoa Awl', '+20 1003427151')}\n"
     ]
    }
   ],
   "source": [
    "dict = {}\n",
    "def Contacts(name,address,phone_number):\n",
    "\n",
    "        global dict\n",
    "        dict[\" 'name'_'address'_'phone number' \"] = name,address,phone_number\n",
    "\n",
    "\n",
    "Contacts('Moustafa','Tagamoa Awl','+20 1003427151')\n",
    "print(dict)"
   ]
  },
  {
   "cell_type": "code",
   "execution_count": null,
   "id": "8a294991-a33d-447c-8538-ff0587149665",
   "metadata": {},
   "outputs": [],
   "source": []
  },
  {
   "cell_type": "code",
   "execution_count": 42,
   "id": "df94d900-67c2-433c-8766-6c78047edcbb",
   "metadata": {},
   "outputs": [
    {
     "name": "stdout",
     "output_type": "stream",
     "text": [
      "{'Moustafa Basheer': ('Tagamoa Awl', '+20 1003427151'), 'abdu Basheer': ('Tagamoa Awl', '+20 1021220409')}\n"
     ]
    }
   ],
   "source": [
    "dict = {}\n",
    "def Contacts(name,address,phone_number):\n",
    "\n",
    "        global dict\n",
    "        \n",
    "        dict[ name ] = address,phone_number\n",
    "\n",
    "\n",
    "Contacts('Moustafa Basheer','Tagamoa Awl','+20 1003427151')\n",
    "Contacts('abdu Basheer','Tagamoa Awl','+20 1021220409')\n",
    "print(dict)"
   ]
  },
  {
   "cell_type": "code",
   "execution_count": 43,
   "id": "4e2e4f4b-4001-472d-b0f9-716bbdb6ecdf",
   "metadata": {},
   "outputs": [
    {
     "name": "stdout",
     "output_type": "stream",
     "text": [
      "{'Moustafa Basheer': ('Tagamoa Awl', '+20 1003427151')}\n"
     ]
    }
   ],
   "source": [
    "del dict['abdu Basheer']\n",
    "print(dict)"
   ]
  },
  {
   "cell_type": "code",
   "execution_count": null,
   "id": "27b862da-9277-476e-b7b8-daa787aeb3a7",
   "metadata": {},
   "outputs": [],
   "source": []
  },
  {
   "cell_type": "code",
   "execution_count": 57,
   "id": "d67968b0-a8f2-479d-b052-3f179429025d",
   "metadata": {},
   "outputs": [
    {
     "name": "stdout",
     "output_type": "stream",
     "text": [
      "[(1, 2, 3)]\n"
     ]
    }
   ],
   "source": [
    "list = []\n",
    "tuple = (1,2,3)\n",
    "list.append(tuple)\n",
    "print(list)"
   ]
  },
  {
   "cell_type": "code",
   "execution_count": null,
   "id": "c96f30ca-fbe5-4713-a99e-49d898fc5ec3",
   "metadata": {},
   "outputs": [],
   "source": []
  }
 ],
 "metadata": {
  "kernelspec": {
   "display_name": "Python 3 (ipykernel)",
   "language": "python",
   "name": "python3"
  },
  "language_info": {
   "codemirror_mode": {
    "name": "ipython",
    "version": 3
   },
   "file_extension": ".py",
   "mimetype": "text/x-python",
   "name": "python",
   "nbconvert_exporter": "python",
   "pygments_lexer": "ipython3",
   "version": "3.12.4"
  }
 },
 "nbformat": 4,
 "nbformat_minor": 5
}
