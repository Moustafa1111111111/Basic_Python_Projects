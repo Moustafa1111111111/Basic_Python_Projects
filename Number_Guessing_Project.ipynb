{
 "cells": [
  {
   "cell_type": "code",
   "execution_count": 55,
   "id": "215394bb-5283-47fc-8a10-53943020ff4e",
   "metadata": {},
   "outputs": [
    {
     "name": "stdout",
     "output_type": "stream",
     "text": [
      "\\You have 10 trials to find out the number.\n",
      "\\You have four clues to guess the right number, when u are getting close or getting far you will have a clue.\n",
      "\\LET'S GO.\n",
      "\n"
     ]
    },
    {
     "name": "stdin",
     "output_type": "stream",
     "text": [
      "Guess the number: 66\n"
     ]
    },
    {
     "name": "stdout",
     "output_type": "stream",
     "text": [
      "close.\n",
      "Clue: the random number is Multipes of: 2 \n",
      "\n"
     ]
    },
    {
     "name": "stdin",
     "output_type": "stream",
     "text": [
      "Guess the number: 2\n"
     ]
    },
    {
     "name": "stdout",
     "output_type": "stream",
     "text": [
      "too far guess.\n",
      "Clue: number is divisible by: 2 \n",
      "\n"
     ]
    },
    {
     "name": "stdin",
     "output_type": "stream",
     "text": [
      "Guess the number: 66\n"
     ]
    },
    {
     "name": "stdout",
     "output_type": "stream",
     "text": [
      "close.\n",
      "Clue: the random number is Multipes of: 2 \n",
      "\n"
     ]
    },
    {
     "name": "stdin",
     "output_type": "stream",
     "text": [
      "Guess the number: 80\n"
     ]
    },
    {
     "name": "stdout",
     "output_type": "stream",
     "text": [
      "far guess.\n",
      "Clue: the random number is Even number. \n",
      "\n"
     ]
    },
    {
     "name": "stdin",
     "output_type": "stream",
     "text": [
      "Guess the number: 40\n"
     ]
    },
    {
     "name": "stdout",
     "output_type": "stream",
     "text": [
      "close.\n",
      "Clue: the random number is Multipes of: 2 \n",
      "\n"
     ]
    },
    {
     "name": "stdin",
     "output_type": "stream",
     "text": [
      "Guess the number: 22\n"
     ]
    },
    {
     "name": "stdout",
     "output_type": "stream",
     "text": [
      "far guess.\n",
      "Clue: the random number is Even number. \n",
      "\n",
      "\n",
      "You Lost: Try Again.\n",
      "Random Number is: = 52\n"
     ]
    }
   ],
   "source": [
    "#Number_Guessing_Project\n",
    "\n",
    "import random\n",
    "\n",
    "random_num = random.randint(1,100)\n",
    "c = Multiples(random_num)\n",
    "print('\\\\You have 10 trials to find out the number.')\n",
    "print('\\\\You have four clues to guess the right number, when u are getting close or getting far you will have a clue.')\n",
    "print('\\\\LET\\'S GO.\\n')\n",
    "\n",
    "for i in range(6):   \n",
    "  x = int(input('Guess the number:'))\n",
    "\n",
    "  if x == random_num:\n",
    "    print('Successfully: you guessed the right number.')\n",
    "    break\n",
    "      \n",
    "  elif  10>= abs(x-random_num) >= 1:\n",
    "      print('too close.')\n",
    "      if random_num<x:\n",
    "          print('Clue: the number is smaller than:',x,'\\n')\n",
    "    \n",
    "  elif  20>= abs(x-random_num) >= 10:\n",
    "      print('close.')\n",
    "      if c == 1:\n",
    "          print('Clue: The random number is Prime number.','\\n')\n",
    "      elif c != 1:\n",
    "          print('Clue: the random number is Multipes of:',c,'\\n')   \n",
    "        \n",
    "  elif  40>= abs(x-random_num) >= 20:\n",
    "      print('far guess.')\n",
    "      if random_num%2==1:\n",
    "          print('Clue: the random number is Odd number.','\\n')\n",
    "      else:\n",
    "          print('Clue: the random number is Even number.','\\n')\n",
    "          \n",
    "  elif  60>= abs(x-random_num) >= 40:\n",
    "       print('too far guess.')\n",
    "       for i in range(2,11):\n",
    "            if random_num%i==0:\n",
    "                print('Clue: number is divisible by:',i,'\\n')\n",
    "                break\n",
    "      \n",
    "  else:\n",
    "        print('Too too Faaaaaaar')\n",
    "        if random_num>x:\n",
    "            print('Clue: the number is greater than:',x,'\\n')\n",
    "      \n",
    "if x != random_num:\n",
    "    print('\\nYou Lost: Try Again.')\n",
    "    print('Random Number is: =',random_num)"
   ]
  },
  {
   "cell_type": "code",
   "execution_count": 24,
   "id": "f4b9adea-d668-4bb3-be08-f585b309de36",
   "metadata": {},
   "outputs": [],
   "source": [
    "import random\n",
    "random_num = random.randint(1,100)\n",
    "\n",
    "def Multiples(x9):\n",
    "  break_outer = False\n",
    "  z = []\n",
    "  c = None\n",
    "  for k in range(2,11):\n",
    "\n",
    "    for i in range(50):\n",
    "          y = k*i\n",
    "          z.append(y)\n",
    "          if x9==y:\n",
    "              c = k\n",
    "              break_outer = True\n",
    "              break \n",
    "          elif x9 in prime_numbers(100):\n",
    "              c = 1\n",
    "              break_outer = True\n",
    "              break\n",
    "          else:    \n",
    "              continue  \n",
    "\n",
    "    if break_outer == True:\n",
    "        break\n",
    "        \n",
    "  return c\n",
    "  "
   ]
  },
  {
   "cell_type": "code",
   "execution_count": 25,
   "id": "c242b198-1142-4cff-97bd-6931eccf16ee",
   "metadata": {},
   "outputs": [],
   "source": [
    "def prime_numbers(n): \n",
    "    s = []\n",
    "    for num in range(2, n + 1):  # Start from 2 (smallest prime number)\n",
    "        is_prime = True  # Assume the number is prime\n",
    "        for i in range(2, int(num ** 0.5) + 1):  # Check for factors up to the square root of the number\n",
    "            if num % i == 0:  # If divisible, it's not prime\n",
    "                is_prime = False\n",
    "                break\n",
    "        if is_prime:\n",
    "            s.append(num)\n",
    "    return s"
   ]
  },
  {
   "cell_type": "code",
   "execution_count": 43,
   "id": "546a04c3-90e8-4e05-8913-9d347c4b5509",
   "metadata": {},
   "outputs": [],
   "source": [
    "random_num = 6\n",
    "for i in range(2,11):\n",
    "    if random_num%i==0  :\n",
    "       print('Clue: number is divisible by:',i)\n",
    "    "
   ]
  },
  {
   "cell_type": "code",
   "execution_count": 57,
   "id": "e52faf4e-b10d-43c7-99da-5f9d45c36f2f",
   "metadata": {},
   "outputs": [
    {
     "name": "stdin",
     "output_type": "stream",
     "text": [
      "Guess a number between 1 and 10:  8\n"
     ]
    },
    {
     "name": "stdout",
     "output_type": "stream",
     "text": [
      "Sorry, guess again. Too high.\n"
     ]
    },
    {
     "name": "stdin",
     "output_type": "stream",
     "text": [
      "Guess a number between 1 and 10:  2\n"
     ]
    },
    {
     "name": "stdout",
     "output_type": "stream",
     "text": [
      "Yay, congrats. You have guessed the number 2 correctly!!\n"
     ]
    },
    {
     "name": "stdin",
     "output_type": "stream",
     "text": [
      "Is 1 too high (H), too low (L), or correct (C)??  l\n",
      "Is 3 too high (H), too low (L), or correct (C)??  h\n",
      "Is 2 too high (H), too low (L), or correct (C)??  c\n"
     ]
    },
    {
     "name": "stdout",
     "output_type": "stream",
     "text": [
      "Yay! The computer guessed your number, 2, correctly!\n"
     ]
    }
   ],
   "source": [
    "#----------------------------------Project on GitHub-----------------------------------\n",
    "import random\n",
    "\n",
    "def guess(x):\n",
    "    random_number = random.randint(1, x)\n",
    "    guess = 0\n",
    "    while guess != random_number:\n",
    "        guess = int(input(f'Guess a number between 1 and {x}: '))\n",
    "        if guess < random_number:\n",
    "            print('Sorry, guess again. Too low.')\n",
    "        elif guess > random_number:\n",
    "            print('Sorry, guess again. Too high.')\n",
    "\n",
    "    print(f'Yay, congrats. You have guessed the number {random_number} correctly!!')\n",
    "\n",
    "def computer_guess(x):\n",
    "    low = 1\n",
    "    high = x\n",
    "    feedback = ''\n",
    "    while feedback != 'c':\n",
    "        if low != high:\n",
    "            guess = random.randint(low, high)\n",
    "        else:\n",
    "            guess = low  # could also be high b/c low = high\n",
    "        feedback = input(f'Is {guess} too high (H), too low (L), or correct (C)?? ').lower()\n",
    "        if feedback == 'h':\n",
    "            high = guess - 1\n",
    "        elif feedback == 'l':\n",
    "            low = guess + 1\n",
    "\n",
    "    print(f'Yay! The computer guessed your number, {guess}, correctly!')\n",
    "\n",
    "\n",
    "guess(10)\n",
    "computer_guess(10)"
   ]
  },
  {
   "cell_type": "code",
   "execution_count": null,
   "id": "0f9f637c-88dd-4896-80be-6f77c08ef4dc",
   "metadata": {},
   "outputs": [],
   "source": []
  }
 ],
 "metadata": {
  "kernelspec": {
   "display_name": "Python 3 (ipykernel)",
   "language": "python",
   "name": "python3"
  },
  "language_info": {
   "codemirror_mode": {
    "name": "ipython",
    "version": 3
   },
   "file_extension": ".py",
   "mimetype": "text/x-python",
   "name": "python",
   "nbconvert_exporter": "python",
   "pygments_lexer": "ipython3",
   "version": "3.12.4"
  }
 },
 "nbformat": 4,
 "nbformat_minor": 5
}
