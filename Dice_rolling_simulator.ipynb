{
 "cells": [
  {
   "cell_type": "code",
   "execution_count": 38,
   "id": "4f3b652e-39eb-439c-b40a-91cb7993f371",
   "metadata": {},
   "outputs": [
    {
     "name": "stdout",
     "output_type": "stream",
     "text": [
      "\n",
      "\n",
      "                   _________________________________ \n",
      "                 /|                                /|\n",
      "                / |   ___      ___     ___        / |\n",
      "               /  |  /__/     /__/    /__/       /  |\n",
      "              /   |                             /   |\n",
      "             /    |  ___     ___     ___       //|  |\n",
      "            /     | /__/    /__/    /__/      / |/  |\n",
      "           /    /||                          /   /| |\n",
      "          /__/|_|/|_________________________//|  |/ |\n",
      "          |  |/  /                          ||/    / \n",
      "          |     /    __          __         | /|  /  \n",
      "          | /| /    |__|        |__|        | |/ /   \n",
      "          | |//            __               |   /    \n",
      "          |  /       __   |__|  __          |  /     \n",
      "          | /       |__|        |__|        | /      \n",
      "          |/                                |/       \n",
      "          |_________________________________|        \n",
      "\n",
      "\n"
     ]
    },
    {
     "name": "stdin",
     "output_type": "stream",
     "text": [
      "Ready to roll the Dice? [Yes/No]: y\n"
     ]
    },
    {
     "name": "stdout",
     "output_type": "stream",
     "text": [
      "Dice number is: 2\n"
     ]
    },
    {
     "name": "stdin",
     "output_type": "stream",
     "text": [
      "Ready to roll the Dice? [Yes/No]: y\n"
     ]
    },
    {
     "name": "stdout",
     "output_type": "stream",
     "text": [
      "Dice number is: 6\n"
     ]
    },
    {
     "name": "stdin",
     "output_type": "stream",
     "text": [
      "Ready to roll the Dice? [Yes/No]: y\n"
     ]
    },
    {
     "name": "stdout",
     "output_type": "stream",
     "text": [
      "Dice number is: 5\n"
     ]
    },
    {
     "name": "stdin",
     "output_type": "stream",
     "text": [
      "Ready to roll the Dice? [Yes/No]: y\n"
     ]
    },
    {
     "name": "stdout",
     "output_type": "stream",
     "text": [
      "Dice number is: 3\n"
     ]
    },
    {
     "name": "stdin",
     "output_type": "stream",
     "text": [
      "Ready to roll the Dice? [Yes/No]: n\n"
     ]
    },
    {
     "name": "stdout",
     "output_type": "stream",
     "text": [
      "<<Done>>\n"
     ]
    }
   ],
   "source": [
    "import random\n",
    "def rolling_Dice():\n",
    "    print_Dice()\n",
    "    for i in range(100):\n",
    "        y = input('Ready to roll the Dice? [Yes/No]:').lower()\n",
    "        if y in [\"yes\",\"y\",\"yees\",\"yeees\",\"yess\",\"yesss\"]:\n",
    "            random_num = random.randint(1,6)\n",
    "            print('Dice number is:',random_num)\n",
    "            \n",
    "        elif y in [\"no\",\"noo\",\"n\",\"nooo\"]:\n",
    "            print('<<Done>>')\n",
    "            break\n",
    "            \n",
    "rolling_Dice()"
   ]
  },
  {
   "cell_type": "code",
   "execution_count": 14,
   "id": "7c55d00a-e661-4a0c-b316-2ed06379d454",
   "metadata": {},
   "outputs": [],
   "source": [
    "def print_Dice():\n",
    "    print()\n",
    "    print()\n",
    "    print(\"                   _________________________________ \")               \n",
    "    print(\"                 /|                                /|\")\n",
    "    print(\"                / |   ___      ___     ___        / |\")\n",
    "    print(\"               /  |  /__/     /__/    /__/       /  |\")\n",
    "    print(\"              /   |                             /   |\") \n",
    "    print(\"             /    |  ___     ___     ___       //|  |\")   \n",
    "    print(\"            /     | /__/    /__/    /__/      / |/  |\") \n",
    "    print(\"           /    /||                          /   /| |\") \n",
    "    print(\"          /__/|_|/|_________________________//|  |/ |\")                            \n",
    "    print(\"          |  |/  /                          ||/    / \")\n",
    "    print(\"          |     /    __          __         | /|  /  \")\n",
    "    print(\"          | /| /    |__|        |__|        | |/ /   \")\n",
    "    print(\"          | |//            __               |   /    \")\n",
    "    print(\"          |  /       __   |__|  __          |  /     \")\n",
    "    print(\"          | /       |__|        |__|        | /      \")\n",
    "    print(\"          |/                                |/       \")  \n",
    "    print(\"          |_________________________________|        \")\n",
    "    print()                                                \n",
    "    print()\n"
   ]
  },
  {
   "cell_type": "code",
   "execution_count": 39,
   "id": "36058774-57f1-4c6c-93aa-f7b234c79f8e",
   "metadata": {},
   "outputs": [
    {
     "name": "stdout",
     "output_type": "stream",
     "text": [
      "\n",
      "\n",
      "                   _________________________________ \n",
      "                 /|                                /|\n",
      "                / |   ___      ___     ___        / |\n",
      "               /  |  /__/     /__/    /__/       /  |\n",
      "              /   |                             /   |\n",
      "             /    |  ___     ___     ___       //|  |\n",
      "            /     | /__/    /__/    /__/      / |/  |\n",
      "           /    /||                          /   /| |\n",
      "          /__/|_|/|_________________________//|  |/ |\n",
      "          |  |/  /                          ||/    / \n",
      "          |     /    __          __         | /|  /  \n",
      "          | /| /    |__|        |__|        | |/ /   \n",
      "          | |//            __               |   /    \n",
      "          |  /       __   |__|  __          |  /     \n",
      "          | /       |__|        |__|        | /      \n",
      "          |/                                |/       \n",
      "          |_________________________________|        \n",
      "\n",
      "\n"
     ]
    },
    {
     "name": "stdin",
     "output_type": "stream",
     "text": [
      "Ready to roll the Dice? [Yes/No] n\n"
     ]
    },
    {
     "name": "stdout",
     "output_type": "stream",
     "text": [
      "Dice Mode OFF\n"
     ]
    }
   ],
   "source": [
    "import random\n",
    "def rolling_Dice():\n",
    "    print_Dice()\n",
    "    x = True\n",
    "    while x == True:\n",
    "        y = input('Ready to roll the Dice? [Yes/No]').lower()\n",
    "        if y in [\"yes\",\"y\",\"yees\",\"yeees\",\"yess\",\"yesss\"]:\n",
    "            random_num = random.randint(1,6)\n",
    "            print('Dice Mode ON\\n')\n",
    "            print('Dice number is:',random_num,'\\n')\n",
    "            \n",
    "        elif y in [\"no\",\"noo\",\"n\",\"nooo\"]:\n",
    "            print(\"Dice Mode OFF\")\n",
    "            break\n",
    "rolling_Dice()            "
   ]
  },
  {
   "cell_type": "code",
   "execution_count": 37,
   "id": "db75c13f-f460-4291-9b1e-d266bbdd74ec",
   "metadata": {},
   "outputs": [
    {
     "name": "stdout",
     "output_type": "stream",
     "text": [
      "\n",
      "\n",
      "                   _________________________________ \n",
      "                 /|                                /|\n",
      "                / |   ___      ___     ___        / |\n",
      "               /  |  /__/     /__/    /__/       /  |\n",
      "              /   |                             /   |\n",
      "             /    |  ___     ___     ___       //|  |\n",
      "            /     | /__/    /__/    /__/      / |/  |\n",
      "           /    /||                          /   /| |\n",
      "          /__/|_|/|_________________________//|  |/ |\n",
      "          |  |/  /                          ||/    / \n",
      "          |     /    __          __         | /|  /  \n",
      "          | /| /    |__|        |__|        | |/ /   \n",
      "          | |//            __               |   /    \n",
      "          |  /       __   |__|  __          |  /     \n",
      "          | /       |__|        |__|        | /      \n",
      "          |/                                |/       \n",
      "          |_________________________________|        \n",
      "\n",
      "\n"
     ]
    },
    {
     "name": "stdin",
     "output_type": "stream",
     "text": [
      "Ready to roll the Dice? [Yes/No] n\n"
     ]
    },
    {
     "name": "stdout",
     "output_type": "stream",
     "text": [
      "Dice Mode OFF\n"
     ]
    }
   ],
   "source": [
    "import random\n",
    "def rolling_Dice():\n",
    "    print_Dice()\n",
    "    x = True\n",
    "    while x == True:\n",
    "        y = input('Ready to roll the Dice? [Yes/No]').lower()\n",
    "        if y in [\"yes\",\"y\",\"yees\",\"yeees\",\"yess\",\"yesss\"]:\n",
    "            random_num = random.randint(1,6)\n",
    "            print('Dice Mode ON\\n')\n",
    "            print('Dice number is:',random_num,'\\n')\n",
    "            \n",
    "        elif y in [\"no\",\"noo\",\"n\",\"nooo\"]:\n",
    "            print(\"Dice Mode OFF\")\n",
    "            x = False\n",
    "rolling_Dice()       "
   ]
  },
  {
   "cell_type": "code",
   "execution_count": 22,
   "id": "23043262-30fd-4500-9e02-fab4e45f6a28",
   "metadata": {},
   "outputs": [
    {
     "name": "stdout",
     "output_type": "stream",
     "text": [
      "7\n"
     ]
    },
    {
     "name": "stdin",
     "output_type": "stream",
     "text": [
      "Do you want to roll again: y/yes or n/no::  y\n"
     ]
    },
    {
     "name": "stdout",
     "output_type": "stream",
     "text": [
      "5\n"
     ]
    },
    {
     "name": "stdin",
     "output_type": "stream",
     "text": [
      "Do you want to roll again: y/yes or n/no::  y\n"
     ]
    },
    {
     "name": "stdout",
     "output_type": "stream",
     "text": [
      "1\n"
     ]
    },
    {
     "name": "stdin",
     "output_type": "stream",
     "text": [
      "Do you want to roll again: y/yes or n/no::  y\n"
     ]
    },
    {
     "name": "stdout",
     "output_type": "stream",
     "text": [
      "6\n"
     ]
    },
    {
     "name": "stdin",
     "output_type": "stream",
     "text": [
      "Do you want to roll again: y/yes or n/no::  y\n"
     ]
    },
    {
     "name": "stdout",
     "output_type": "stream",
     "text": [
      "2\n"
     ]
    },
    {
     "name": "stdin",
     "output_type": "stream",
     "text": [
      "Do you want to roll again: y/yes or n/no::  y\n"
     ]
    },
    {
     "name": "stdout",
     "output_type": "stream",
     "text": [
      "4\n"
     ]
    },
    {
     "name": "stdin",
     "output_type": "stream",
     "text": [
      "Do you want to roll again: y/yes or n/no::  y\n"
     ]
    },
    {
     "name": "stdout",
     "output_type": "stream",
     "text": [
      "3\n"
     ]
    },
    {
     "name": "stdin",
     "output_type": "stream",
     "text": [
      "Do you want to roll again: y/yes or n/no::  y\n"
     ]
    },
    {
     "name": "stdout",
     "output_type": "stream",
     "text": [
      "5\n"
     ]
    },
    {
     "name": "stdin",
     "output_type": "stream",
     "text": [
      "Do you want to roll again: y/yes or n/no::  y\n"
     ]
    },
    {
     "name": "stdout",
     "output_type": "stream",
     "text": [
      "4\n"
     ]
    },
    {
     "name": "stdin",
     "output_type": "stream",
     "text": [
      "Do you want to roll again: y/yes or n/no::  y\n"
     ]
    },
    {
     "name": "stdout",
     "output_type": "stream",
     "text": [
      "4\n"
     ]
    },
    {
     "name": "stdin",
     "output_type": "stream",
     "text": [
      "Do you want to roll again: y/yes or n/no::  y\n"
     ]
    },
    {
     "name": "stdout",
     "output_type": "stream",
     "text": [
      "6\n"
     ]
    },
    {
     "name": "stdin",
     "output_type": "stream",
     "text": [
      "Do you want to roll again: y/yes or n/no::  y\n"
     ]
    },
    {
     "name": "stdout",
     "output_type": "stream",
     "text": [
      "3\n"
     ]
    },
    {
     "name": "stdin",
     "output_type": "stream",
     "text": [
      "Do you want to roll again: y/yes or n/no::  y\n"
     ]
    },
    {
     "name": "stdout",
     "output_type": "stream",
     "text": [
      "3\n"
     ]
    },
    {
     "name": "stdin",
     "output_type": "stream",
     "text": [
      "Do you want to roll again: y/yes or n/no::  n\n"
     ]
    }
   ],
   "source": [
    "##------------------------------------Project_0n_GitHub------------------------------------\n",
    "import random\n",
    "#When you run the program you'll get a random number between 1-6\n",
    "roll_again=\"yes\"\n",
    "#if you want to roll again you can give the input accordingly\n",
    "while(roll_again==\"yes\" or roll_again==\"y\"):\n",
    "    #random.randint() function will give you a random integer from the specified range\n",
    "    print(random.randint(1,7))\n",
    "    roll_again=input(\"Do you want to roll again: y/yes or n/no:: \")"
   ]
  },
  {
   "cell_type": "code",
   "execution_count": null,
   "id": "c4ad6525-f337-4842-be1c-41cb1ba8d70a",
   "metadata": {},
   "outputs": [],
   "source": []
  }
 ],
 "metadata": {
  "kernelspec": {
   "display_name": "Python 3 (ipykernel)",
   "language": "python",
   "name": "python3"
  },
  "language_info": {
   "codemirror_mode": {
    "name": "ipython",
    "version": 3
   },
   "file_extension": ".py",
   "mimetype": "text/x-python",
   "name": "python",
   "nbconvert_exporter": "python",
   "pygments_lexer": "ipython3",
   "version": "3.12.4"
  }
 },
 "nbformat": 4,
 "nbformat_minor": 5
}
