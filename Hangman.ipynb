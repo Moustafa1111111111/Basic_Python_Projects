{
 "cells": [
  {
   "cell_type": "code",
   "execution_count": 78,
   "id": "6140795a-3953-446e-beb9-eb856d4244a6",
   "metadata": {},
   "outputs": [
    {
     "name": "stdout",
     "output_type": "stream",
     "text": [
      "Word number '0' is: a__itra_y\n"
     ]
    },
    {
     "name": "stdin",
     "output_type": "stream",
     "text": [
      "guess the 1st missing letter of word: r\n",
      "guess the 2nd missing letter of word: b\n",
      "guess the 3rd missing letter of word: r\n"
     ]
    },
    {
     "name": "stdout",
     "output_type": "stream",
     "text": [
      "the word with your choosen missing letters is: arbitrary \n",
      "\n",
      "Successfully you guessed the word, the word is: arbitrary \n",
      "\n",
      "Word number '1' is: a_i__\n"
     ]
    },
    {
     "name": "stdin",
     "output_type": "stream",
     "text": [
      "guess the 1st missing letter of word: l\n",
      "guess the 2nd missing letter of word: a\n",
      "guess the 3rd missing letter of word: s\n"
     ]
    },
    {
     "name": "stdout",
     "output_type": "stream",
     "text": [
      "the word with your choosen missing letters is: alias \n",
      "\n",
      "Successfully you guessed the word, the word is: alias \n",
      "\n",
      "Word number '2' is: a_a_d_n\n"
     ]
    },
    {
     "name": "stdin",
     "output_type": "stream",
     "text": [
      "guess the 1st missing letter of word: b\n",
      "guess the 2nd missing letter of word: n\n",
      "guess the 3rd missing letter of word: o\n"
     ]
    },
    {
     "name": "stdout",
     "output_type": "stream",
     "text": [
      "the word with your choosen missing letters is: abandon \n",
      "\n",
      "Successfully you guessed the word, the word is: abandon \n",
      "\n",
      "Word number '3' is: a_o_t_on\n"
     ]
    },
    {
     "name": "stdin",
     "output_type": "stream",
     "text": [
      "guess the 1st missing letter of word: b\n",
      "guess the 2nd missing letter of word: r\n",
      "guess the 3rd missing letter of word: i\n"
     ]
    },
    {
     "name": "stdout",
     "output_type": "stream",
     "text": [
      "the word with your choosen missing letters is: abortion \n",
      "\n",
      "Successfully you guessed the word, the word is: abortion \n",
      "\n",
      "Word number '4' is: _c_no__e_ge\n"
     ]
    },
    {
     "name": "stdin",
     "output_type": "stream",
     "text": [
      "guess the 1st missing letter of word: a\n",
      "guess the 2nd missing letter of word: k\n",
      "guess the 3rd missing letter of word: w\n",
      "guess the 4th missing letter of word: l\n",
      "guess the 5th missing letter of word: d\n"
     ]
    },
    {
     "name": "stdout",
     "output_type": "stream",
     "text": [
      "the word with your choosen missing letters is: acknowledge \n",
      "\n",
      "Successfully you guessed the word, the word is: acknowledge \n",
      "\n",
      "Word number '5' is: _c___re\n"
     ]
    },
    {
     "name": "stdin",
     "output_type": "stream",
     "text": [
      "guess the 1st missing letter of word: a\n",
      "guess the 2nd missing letter of word: q\n",
      "guess the 3rd missing letter of word: u\n",
      "guess the 4th missing letter of word: i\n"
     ]
    },
    {
     "name": "stdout",
     "output_type": "stream",
     "text": [
      "the word with your choosen missing letters is: acquire \n",
      "\n",
      "Successfully you guessed the word, the word is: acquire \n",
      "\n",
      "Word number '6' is: a_e__at_\n"
     ]
    },
    {
     "name": "stdin",
     "output_type": "stream",
     "text": [
      "guess the 1st missing letter of word: d\n",
      "guess the 2nd missing letter of word: q\n",
      "guess the 3rd missing letter of word: u\n",
      "guess the 4th missing letter of word: e\n"
     ]
    },
    {
     "name": "stdout",
     "output_type": "stream",
     "text": [
      "the word with your choosen missing letters is: adequate \n",
      "\n",
      "Successfully you guessed the word, the word is: adequate \n",
      "\n",
      "Word number '7' is: _mp_e_en_a_ion\n"
     ]
    },
    {
     "name": "stdin",
     "output_type": "stream",
     "text": [
      "guess the 1st missing letter of word: i\n",
      "guess the 2nd missing letter of word: l\n",
      "guess the 3rd missing letter of word: m\n",
      "guess the 4th missing letter of word: t\n",
      "guess the 5th missing letter of word: t\n"
     ]
    },
    {
     "name": "stdout",
     "output_type": "stream",
     "text": [
      "the word with your choosen missing letters is: implementation \n",
      "\n",
      "Successfully you guessed the word, the word is: implementation \n",
      "\n",
      "\n",
      "Words Finished, Try again if there are words you dont guessed right.\n"
     ]
    }
   ],
   "source": [
    "import re\n",
    "list = [\"arbitrary\",\"alias\",\"abandon\",\"abortion\",\"acknowledge\",\"acquire\",\"adequate\",\"implementation\"]\n",
    "\n",
    "list1 = [\"a__itra_y\",\"a_i__\",\"a_a_d_n\",\"a_o_t_on\",\"_c_no__e_ge\",\"_c___re\",\"a_e__at_\",\"_mp_e_en_a_ion\"]\n",
    "list2 = [\"a{}{}itra{}y\",\"a{}i{}{}\",\"a{}a{}d{}n\",\"a{}o{}t{}on\",\"{}c{}no{}{}e{}ge\",\"{}c{}{}{}re\",\"a{}e{}{}at{}\",\"{}mp{}e{}en{}a{}ion\"]\n",
    "\n",
    "list22 = range(len(list1))\n",
    "\n",
    "for i,ii,iii in zip(list2,list1,list22):\n",
    "    print('Word number \\'{}\\' is:'.format(iii),ii)\n",
    "    variables = re.findall(r'{(.*?)}', i)\n",
    "    if len(variables) == 3:\n",
    "        \n",
    "        _bool = False\n",
    "        while _bool == False:\n",
    "            x = input('guess the 1st missing letter of word:').lower()\n",
    "            y = input('guess the 2nd missing letter of word:').lower()\n",
    "            z = input('guess the 3rd missing letter of word:').lower()\n",
    "            c = i.format(x,y,z)\n",
    "            print('the word with your choosen missing letters is:',c,'\\n')\n",
    "           \n",
    "            if c == list[iii]:       \n",
    "                print('Successfully you guessed the word, the word is:',c,'\\n')\n",
    "                _bool = True\n",
    "            else:\n",
    "                print('Invalid')\n",
    "                xx = input('want to continue guessing or next word?[CONTINUE/NEXT]').upper()\n",
    "                if xx == 'CONTINUE':\n",
    "                    continue\n",
    "                elif xx == 'NEXT' :\n",
    "                    break\n",
    "                    \n",
    "           \n",
    "    elif len(variables) == 4: \n",
    "        _bool = False\n",
    "        while _bool == False:\n",
    "            x = input('guess the 1st missing letter of word:').lower()\n",
    "            y = input('guess the 2nd missing letter of word:').lower()\n",
    "            z = input('guess the 3rd missing letter of word:').lower()\n",
    "            a = input('guess the 4th missing letter of word:').lower()\n",
    "            c = i.format(x,y,z,a)\n",
    "            print('the word with your choosen missing letters is:',i.format(x,y,z,a),'\\n')\n",
    "            if c == list[iii]:       \n",
    "                print('Successfully you guessed the word, the word is:',c,'\\n')\n",
    "                _bool = True\n",
    "            else:\n",
    "                print('Invalid')\n",
    "                xx = input('want to continue guessing or next word?[CONTINUE/NEXT]').upper()\n",
    "                if xx == 'CONTINUE':\n",
    "                    continue\n",
    "                elif xx == 'NEXT' :\n",
    "                    break\n",
    "\n",
    "    elif len(variables) == 5:\n",
    "        _bool = False\n",
    "        while _bool == False:\n",
    "            x = input('guess the 1st missing letter of word:').lower()\n",
    "            y = input('guess the 2nd missing letter of word:').lower()\n",
    "            z = input('guess the 3rd missing letter of word:').lower()\n",
    "            a = input('guess the 4th missing letter of word:').lower() \n",
    "            b = input('guess the 5th missing letter of word:').lower()\n",
    "            c = i.format(x,y,z,a,b)\n",
    "            print('the word with your choosen missing letters is:',i.format(x,y,z,a,b),'\\n')\n",
    "            if c == list[iii]:       \n",
    "                print('Successfully you guessed the word, the word is:',c,'\\n')\n",
    "                _bool = True\n",
    "            else:\n",
    "                print('Invalid')\n",
    "                xx = input('want to continue guessing or next word?[CONTINUE/NEXT]').upper()\n",
    "                if xx == 'CONTINUE':\n",
    "                    continue\n",
    "                elif xx == 'NEXT' :\n",
    "                    break\n",
    "                    \n",
    "\n",
    "    else:\n",
    "        print(\"\\nWords Finished, Try again if there are words you dont guessed right.\")\n",
    "print(\"\\nWords Finished, Try again if there are words you dont guessed right.\")\n",
    "\n",
    "\n",
    " \n",
    "\n",
    "            \n",
    "    "
   ]
  },
  {
   "cell_type": "code",
   "execution_count": null,
   "id": "4ee01898-869f-4dc0-a25d-621b7c4f1ba8",
   "metadata": {},
   "outputs": [],
   "source": []
  },
  {
   "cell_type": "code",
   "execution_count": 63,
   "id": "207c04c5-9d4a-4130-989c-df53160e540a",
   "metadata": {},
   "outputs": [
    {
     "data": {
      "text/plain": [
       "3"
      ]
     },
     "execution_count": 63,
     "metadata": {},
     "output_type": "execute_result"
    }
   ],
   "source": [
    "a = \"a{}{}ira{}y\"\n",
    "a.count('{}')"
   ]
  },
  {
   "cell_type": "code",
   "execution_count": null,
   "id": "f1326dfc-7033-409e-80b5-46581287d437",
   "metadata": {},
   "outputs": [],
   "source": [
    "\n",
    "for i,j,o in list2,list,list1:\n",
    "    print(o)\n",
    "\n",
    "    for k,l in i,j:\n",
    "        z = input('guess the missing letters:').lower()\n",
    "        if list1[l] == list[z]:\n",
    "            list[l] = list[k]\n",
    "            "
   ]
  },
  {
   "cell_type": "code",
   "execution_count": null,
   "id": "31cc2da5-e74b-4d8a-b35d-cbc985ae0ec5",
   "metadata": {},
   "outputs": [],
   "source": [
    "import re\n",
    "\n",
    "f_string = \"a{x}{y}ira{z}y\"\n",
    "variables = re.findall(r'{(.*?)}', f_string)\n",
    "\n",
    "# Output the variables\n",
    "print(\"Variables:\", variables)\n",
    "print(\"Number of variables:\", len(variables))\n"
   ]
  },
  {
   "cell_type": "code",
   "execution_count": null,
   "id": "ac40dc75-08fb-4e7d-9c56-4665e01f65d5",
   "metadata": {},
   "outputs": [],
   "source": [
    "\n",
    "            cleaned_guessed_word = c.replace(\"'\", \"\")\n",
    "            cleaned_actual_word = list[iii].replace(\"'\", \"\")\n",
    "            "
   ]
  },
  {
   "cell_type": "code",
   "execution_count": 68,
   "id": "45604e16-fde8-43eb-9c62-5356288781ed",
   "metadata": {},
   "outputs": [
    {
     "name": "stdout",
     "output_type": "stream",
     "text": [
      "arbitrary\n",
      "range(0, 8)\n"
     ]
    }
   ],
   "source": [
    "list = [\"arbitrary\",\"alias\",\"abandon\",\"abortion\",\"'acknowledge\",\"acquire\",\"adequate\",\"implementation\"]\n",
    "print(list[0])\n",
    "x = range(len(list))\n",
    "print(x)"
   ]
  },
  {
   "cell_type": "code",
   "execution_count": 71,
   "id": "75e612df-91fe-4bcd-b739-3b4c3539c24f",
   "metadata": {},
   "outputs": [
    {
     "name": "stdout",
     "output_type": "stream",
     "text": [
      "Word number '0' is: a__itra_y\n"
     ]
    },
    {
     "name": "stdin",
     "output_type": "stream",
     "text": [
      "Guess the 1st missing letter of the word:  r\n",
      "Guess the 2nd missing letter of the word:  b\n",
      "Guess the 3rd missing letter of the word:  r\n"
     ]
    },
    {
     "name": "stdout",
     "output_type": "stream",
     "text": [
      "The word with your chosen missing letters is: a'r''b'itra'r'y\n",
      "Successfully guessed the word! The word is: arbitrary\n",
      "Word number '1' is: a_i__\n"
     ]
    },
    {
     "name": "stdin",
     "output_type": "stream",
     "text": [
      "Guess the 1st missing letter of the word:  l\n",
      "Guess the 2nd missing letter of the word:  i\n",
      "Guess the 3rd missing letter of the word:  s\n"
     ]
    },
    {
     "name": "stdout",
     "output_type": "stream",
     "text": [
      "The word with your chosen missing letters is: a'l'i'i''s'\n",
      "Invalid guess!\n"
     ]
    },
    {
     "name": "stdin",
     "output_type": "stream",
     "text": [
      "Want to continue guessing or go to the next word? [CONTINUE/NEXT]  CONTINUE\n",
      "Guess the 1st missing letter of the word:  l\n",
      "Guess the 2nd missing letter of the word:  a\n",
      "Guess the 3rd missing letter of the word:  s\n"
     ]
    },
    {
     "name": "stdout",
     "output_type": "stream",
     "text": [
      "The word with your chosen missing letters is: a'l'i'a''s'\n",
      "Successfully guessed the word! The word is: alias\n",
      "Word number '2' is: a_a_d_n\n"
     ]
    },
    {
     "ename": "KeyboardInterrupt",
     "evalue": "Interrupted by user",
     "output_type": "error",
     "traceback": [
      "\u001b[1;31m---------------------------------------------------------------------------\u001b[0m",
      "\u001b[1;31mKeyboardInterrupt\u001b[0m                         Traceback (most recent call last)",
      "Cell \u001b[1;32mIn[71], line 17\u001b[0m\n\u001b[0;32m     15\u001b[0m _bool \u001b[38;5;241m=\u001b[39m \u001b[38;5;28;01mFalse\u001b[39;00m\n\u001b[0;32m     16\u001b[0m \u001b[38;5;28;01mwhile\u001b[39;00m _bool \u001b[38;5;241m==\u001b[39m \u001b[38;5;28;01mFalse\u001b[39;00m:\n\u001b[1;32m---> 17\u001b[0m     x \u001b[38;5;241m=\u001b[39m \u001b[38;5;28minput\u001b[39m(\u001b[38;5;124m'\u001b[39m\u001b[38;5;124mGuess the 1st missing letter of the word: \u001b[39m\u001b[38;5;124m'\u001b[39m)\u001b[38;5;241m.\u001b[39mlower()\n\u001b[0;32m     18\u001b[0m     y \u001b[38;5;241m=\u001b[39m \u001b[38;5;28minput\u001b[39m(\u001b[38;5;124m'\u001b[39m\u001b[38;5;124mGuess the 2nd missing letter of the word: \u001b[39m\u001b[38;5;124m'\u001b[39m)\u001b[38;5;241m.\u001b[39mlower()\n\u001b[0;32m     19\u001b[0m     z \u001b[38;5;241m=\u001b[39m \u001b[38;5;28minput\u001b[39m(\u001b[38;5;124m'\u001b[39m\u001b[38;5;124mGuess the 3rd missing letter of the word: \u001b[39m\u001b[38;5;124m'\u001b[39m)\u001b[38;5;241m.\u001b[39mlower()\n",
      "File \u001b[1;32mC:\\ProgramData\\anaconda3\\Lib\\site-packages\\ipykernel\\kernelbase.py:1262\u001b[0m, in \u001b[0;36mKernel.raw_input\u001b[1;34m(self, prompt)\u001b[0m\n\u001b[0;32m   1260\u001b[0m     msg \u001b[38;5;241m=\u001b[39m \u001b[38;5;124m\"\u001b[39m\u001b[38;5;124mraw_input was called, but this frontend does not support input requests.\u001b[39m\u001b[38;5;124m\"\u001b[39m\n\u001b[0;32m   1261\u001b[0m     \u001b[38;5;28;01mraise\u001b[39;00m StdinNotImplementedError(msg)\n\u001b[1;32m-> 1262\u001b[0m \u001b[38;5;28;01mreturn\u001b[39;00m \u001b[38;5;28mself\u001b[39m\u001b[38;5;241m.\u001b[39m_input_request(\n\u001b[0;32m   1263\u001b[0m     \u001b[38;5;28mstr\u001b[39m(prompt),\n\u001b[0;32m   1264\u001b[0m     \u001b[38;5;28mself\u001b[39m\u001b[38;5;241m.\u001b[39m_parent_ident[\u001b[38;5;124m\"\u001b[39m\u001b[38;5;124mshell\u001b[39m\u001b[38;5;124m\"\u001b[39m],\n\u001b[0;32m   1265\u001b[0m     \u001b[38;5;28mself\u001b[39m\u001b[38;5;241m.\u001b[39mget_parent(\u001b[38;5;124m\"\u001b[39m\u001b[38;5;124mshell\u001b[39m\u001b[38;5;124m\"\u001b[39m),\n\u001b[0;32m   1266\u001b[0m     password\u001b[38;5;241m=\u001b[39m\u001b[38;5;28;01mFalse\u001b[39;00m,\n\u001b[0;32m   1267\u001b[0m )\n",
      "File \u001b[1;32mC:\\ProgramData\\anaconda3\\Lib\\site-packages\\ipykernel\\kernelbase.py:1305\u001b[0m, in \u001b[0;36mKernel._input_request\u001b[1;34m(self, prompt, ident, parent, password)\u001b[0m\n\u001b[0;32m   1302\u001b[0m \u001b[38;5;28;01mexcept\u001b[39;00m \u001b[38;5;167;01mKeyboardInterrupt\u001b[39;00m:\n\u001b[0;32m   1303\u001b[0m     \u001b[38;5;66;03m# re-raise KeyboardInterrupt, to truncate traceback\u001b[39;00m\n\u001b[0;32m   1304\u001b[0m     msg \u001b[38;5;241m=\u001b[39m \u001b[38;5;124m\"\u001b[39m\u001b[38;5;124mInterrupted by user\u001b[39m\u001b[38;5;124m\"\u001b[39m\n\u001b[1;32m-> 1305\u001b[0m     \u001b[38;5;28;01mraise\u001b[39;00m \u001b[38;5;167;01mKeyboardInterrupt\u001b[39;00m(msg) \u001b[38;5;28;01mfrom\u001b[39;00m \u001b[38;5;28;01mNone\u001b[39;00m\n\u001b[0;32m   1306\u001b[0m \u001b[38;5;28;01mexcept\u001b[39;00m \u001b[38;5;167;01mException\u001b[39;00m:\n\u001b[0;32m   1307\u001b[0m     \u001b[38;5;28mself\u001b[39m\u001b[38;5;241m.\u001b[39mlog\u001b[38;5;241m.\u001b[39mwarning(\u001b[38;5;124m\"\u001b[39m\u001b[38;5;124mInvalid Message:\u001b[39m\u001b[38;5;124m\"\u001b[39m, exc_info\u001b[38;5;241m=\u001b[39m\u001b[38;5;28;01mTrue\u001b[39;00m)\n",
      "\u001b[1;31mKeyboardInterrupt\u001b[0m: Interrupted by user"
     ]
    }
   ],
   "source": [
    "import re\n",
    "\n",
    "list = [\"a'r''b'itra'r'y\", \"a'l'i'a''s'\", \"a'b'a'n'd'o'n\", \"a'b'o'r't'i'on\", \"'a'c'k'no'w''l'e'd'ge\", \"'a'c'q''u''i're\", \"a'd'e'q''u'at'e'\", \"'i'm'p''l'e'm'en't'a't'ion\"]\n",
    "list1 = [\"a__itra_y\", \"a_i__\", \"a_a_d_n\", \"a_o_t_on\", \"_c_no__e_ge\", \"_c___re\", \"a_e__at_\", \"_m__e_en_a_ion\"]\n",
    "list2 = [\"a'{}''{}'itra'{}'y\", \"a'{}'i'{}''{}'\", \"a'{}'a'{}'d'{}'n\", \"a'{}'o'{}'t'{}'on\", \"'{}'c'{}'no'{}''{}'e'{}'ge\", \"'{}'c'{}''{}''{}'re\", \"a'{}'e'{}''{}'at'{}'\", \"'{}'m'{}''{}'e'{}'en'{}'a'{}'ion\"]\n",
    "\n",
    "list22 = range(len(list1))\n",
    "\n",
    "for i, ii, iii in zip(list2, list1, list22):\n",
    "    print('Word number \\'{}\\' is:'.format(iii), ii)\n",
    "    \n",
    "    variables = re.findall(r'{(.*?)}', i)\n",
    "    \n",
    "    if len(variables) == 3:\n",
    "        _bool = False\n",
    "        while _bool == False:\n",
    "            x = input('Guess the 1st missing letter of the word: ').lower()\n",
    "            y = input('Guess the 2nd missing letter of the word: ').lower()\n",
    "            z = input('Guess the 3rd missing letter of the word: ').lower()\n",
    "            \n",
    "            guessed_word = i.format(x, y, z)\n",
    "            print('The word with your chosen missing letters is:', guessed_word)\n",
    "            \n",
    "            # Remove single quotes from both the guessed word and the original word for comparison\n",
    "            cleaned_guessed_word = guessed_word.replace(\"'\", \"\")\n",
    "            cleaned_actual_word = list[iii].replace(\"'\", \"\")\n",
    "            \n",
    "            if cleaned_guessed_word == cleaned_actual_word:\n",
    "                print('Successfully guessed the word! The word is:', cleaned_actual_word)\n",
    "                _bool = True\n",
    "            else:\n",
    "                print('Invalid guess!')\n",
    "                xx = input('Want to continue guessing or go to the next word? [CONTINUE/NEXT] ').upper()\n",
    "                if xx == 'CONTINUE':\n",
    "                    continue\n",
    "                elif xx == 'NEXT':\n",
    "                    break\n",
    "    \n",
    "    # Similar handling for cases with 4 or 5 missing letters...\n",
    "    elif len(variables) == 4: \n",
    "        x = input('Guess the 1st missing letter of the word: ').lower()\n",
    "        y = input('Guess the 2nd missing letter of the word: ').lower()\n",
    "        z = input('Guess the 3rd missing letter of the word: ').lower()\n",
    "        a = input('Guess the 4th missing letter of the word: ').lower()\n",
    "        guessed_word = i.format(x, y, z, a)\n",
    "        print('The word with your chosen missing letters is:', guessed_word)\n",
    "    \n",
    "    elif len(variables) == 5:\n",
    "        x = input('Guess the 1st missing letter of the word: ').lower()\n",
    "        y = input('Guess the 2nd missing letter of the word: ').lower()\n",
    "        z = input('Guess the 3rd missing letter of the word: ').lower()\n",
    "        a = input('Guess the 4th missing letter of the word: ').lower() \n",
    "        b = input('Guess the 5th missing letter of the word: ').lower()\n",
    "        guessed_word = i.format(x, y, z, a, b)\n",
    "        print('The word with your chosen missing letters is:', guessed_word)\n",
    "    \n",
    "    else:\n",
    "        print(\"Words finished! Try again if there are words you haven't guessed right.\")\n"
   ]
  },
  {
   "cell_type": "code",
   "execution_count": null,
   "id": "3ce446b2-f168-4882-b1d6-9ab4fdc6698b",
   "metadata": {},
   "outputs": [],
   "source": []
  }
 ],
 "metadata": {
  "kernelspec": {
   "display_name": "Python 3 (ipykernel)",
   "language": "python",
   "name": "python3"
  },
  "language_info": {
   "codemirror_mode": {
    "name": "ipython",
    "version": 3
   },
   "file_extension": ".py",
   "mimetype": "text/x-python",
   "name": "python",
   "nbconvert_exporter": "python",
   "pygments_lexer": "ipython3",
   "version": "3.12.4"
  }
 },
 "nbformat": 4,
 "nbformat_minor": 5
}
