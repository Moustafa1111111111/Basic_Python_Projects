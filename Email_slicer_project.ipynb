{
 "cells": [
  {
   "cell_type": "code",
   "execution_count": 6,
   "id": "4e5a09ca-51f9-40ec-942d-524b42e6daa3",
   "metadata": {},
   "outputs": [
    {
     "name": "stdout",
     "output_type": "stream",
     "text": [
      "username: moustafa.basheeer9999\n",
      "domain_name: gmail.com\n"
     ]
    }
   ],
   "source": [
    "def Email_Slicer(email):\n",
    "    'this function slices the email into username and domain name of the email'\n",
    "\n",
    "    index = email.find('@')\n",
    "\n",
    "    user_name = email[:index]\n",
    "    domain_name = email[index+1:]\n",
    "\n",
    "    print('username:',user_name)\n",
    "    print('domain_name:',domain_name)\n",
    "    \n",
    "\n",
    "Email_Slicer('moustafa.basheeer9999@gmail.com')"
   ]
  },
  {
   "cell_type": "code",
   "execution_count": 16,
   "id": "28bdcd3f-17b3-4f67-889d-522adee15f97",
   "metadata": {},
   "outputs": [
    {
     "name": "stdin",
     "output_type": "stream",
     "text": [
      "Enter your email: moustafa.basheeer9999@gmail.com\n"
     ]
    },
    {
     "name": "stdout",
     "output_type": "stream",
     "text": [
      "username: moustafa.basheeer9999\n",
      "domain_name: gmail.com\n"
     ]
    }
   ],
   "source": [
    "def Email_Slicer():\n",
    "    'this function slices the email into username and domain name of the email'\n",
    "    _bool = True\n",
    "    while _bool == True:\n",
    "        email = input('Enter your email:')\n",
    "        if '@' not in email:\n",
    "            print('<<Error:Enter email correctly>>\\n')\n",
    "        else:    \n",
    "            index = email.find('@')\n",
    "\n",
    "            user_name = email[:index]\n",
    "            domain_name = email[index+1:]\n",
    "\n",
    "            print('username:',user_name)\n",
    "            print('domain_name:',domain_name)\n",
    "            break\n",
    "\n",
    "Email_Slicer()"
   ]
  },
  {
   "cell_type": "code",
   "execution_count": null,
   "id": "e67c1233-d800-46ba-bb79-f01026a50458",
   "metadata": {},
   "outputs": [],
   "source": [
    "\n",
    "\n",
    "\n",
    "\n",
    "\n",
    "\n",
    "\n",
    "\n",
    "\n",
    "\n",
    "\n"
   ]
  },
  {
   "cell_type": "code",
   "execution_count": 5,
   "id": "61871f40-715c-4db0-ad51-bdbcb25a0177",
   "metadata": {},
   "outputs": [
    {
     "name": "stdin",
     "output_type": "stream",
     "text": [
      "Enter email or exit to stop, print to show data:  moustafa.basheer9999@gmail.com\n",
      "Enter email or exit to stop, print to show data:  print\n"
     ]
    },
    {
     "name": "stdout",
     "output_type": "stream",
     "text": [
      "username: moustafa.basheer9999 and domain: GMAIL.COM\n"
     ]
    }
   ],
   "source": [
    "#-------------------------------------------------------Email_slicer_on_GitHub----------------------------------------------------#\n",
    "list1 = []\n",
    "while True:\n",
    "    str1 = input(\"Enter email or exit to stop, print to show data: \")\n",
    "    if str1 == \"exit\":\n",
    "        break\n",
    "    elif str1 == \"print\":\n",
    "        for i in list1:\n",
    "            print(\"username:\",i[0],\"and domain:\",i[1].upper())\n",
    "        break\n",
    "    elif \"@\" in str1:\n",
    "        l1 = list(str1.split(\"@\"))\n",
    "        list1.append(l1)\n",
    "    else:\n",
    "        print(\"Input is not valid\")"
   ]
  },
  {
   "cell_type": "code",
   "execution_count": null,
   "id": "f7488e3b-69ce-482e-9a3f-1ccdc5800530",
   "metadata": {},
   "outputs": [],
   "source": []
  }
 ],
 "metadata": {
  "kernelspec": {
   "display_name": "Python 3 (ipykernel)",
   "language": "python",
   "name": "python3"
  },
  "language_info": {
   "codemirror_mode": {
    "name": "ipython",
    "version": 3
   },
   "file_extension": ".py",
   "mimetype": "text/x-python",
   "name": "python",
   "nbconvert_exporter": "python",
   "pygments_lexer": "ipython3",
   "version": "3.12.4"
  }
 },
 "nbformat": 4,
 "nbformat_minor": 5
}
